{
 "cells": [
  {
   "cell_type": "code",
   "execution_count": 1,
   "id": "6259a857",
   "metadata": {},
   "outputs": [],
   "source": [
    "import wikipedia\n",
    "import json\n",
    "import os"
   ]
  },
  {
   "cell_type": "code",
   "execution_count": 2,
   "id": "4c49fa97",
   "metadata": {},
   "outputs": [],
   "source": [
    "# topic lists\n",
    "topics = [\n",
    "    \"Artificial Intelligence\", \"Deep Learning\", \"Neural Networks\", \"Quantum mechanics\",\n",
    "    \"Bitcoin\", \"Cybersecurity\", \"Internet of Things\", \"Cloud Computing\", \"Renewable Energy\",\n",
    "    \"Photovoltaics\", \"Climate Change\", \"Genetic Engineering\", \"CRISPR\", \"Nanotechnology\", \"NASA\",\n",
    "    \"Mars Exploration\", \"Robot\", \"Autonomous Vehicles\", \"Cryptocurrency\", \"Virtual reality headset\",\n",
    "    \"Augmented Reality\", \"5G\",\"Biotechnology\",\n",
    "\n",
    "    \"World War II\", \"World War I\", \"American Civil War\", \"French Revolution\", \"Steam engine\",\n",
    "    \"Ancient Egypt\", \"Middle Ages\", \"Renaissance\", \"Representative democracy\",\n",
    "    \"League of Nations\", \"European Union\", \"NATO\", \"Colonialism\", \"Decolonization\",\n",
    "    \"Human Rights\", \"Constitution \", \"International Law\", \"Diplomatic Relations\", \"Political Systems\",\n",
    "\n",
    "    \"Amazon Rainforest\", \"Sahara Desert\", \"Pacific Ocean\", \"Mediterranean Sea\",\n",
    "    \"Manhattan \", \"London\", \"Tokyo\", \"Paris\", \"Forbidden City\",\n",
    "    \"Global Warming Effects\", \"Natural Disasters\", \"Earthquakes\", \"Volcanoes\", \"Ocean Currents\",\n",
    "\n",
    "    \"Religion \", \"Catholic Church\", \"Quran\", \"Buddhism\", \"Philosophy\",\n",
    "    \"Sociology\", \"Anthropology\", \"Psychology\", \"Education Systems\",\n",
    "    \"Healthcare Systems\", \"Social Media\", \"Globalization\", \"Multiculturalism\", \"Human Migration\",\n",
    "\n",
    "    \"Stock Market\", \"Banking System\", \"Economic Theory\", \"Hyperinflation \", \"Supply Chain\",\n",
    "    \"International Trade\", \"Entrepreneurship\", \"Corporate Governance\", \"Economic Development\", \"Financial Markets\",\n",
    "\n",
    "    \"Renaissance Art\", \"Modern Art\", \"Literature\", \"Shakespeare\", \"Baroque music\",\n",
    "    \"Jazz Music\", \"Film Industry\", \"Theater\", \"Architecture\", \"Digital Art\",\n",
    "\n",
    "    \"Olympic Games\", \"FIFA World Cup\", \"Basketball\", \"Wimbledon Championships\", \"Grand Prix motor racing\",\n",
    "    \"Entertainment Industry\", \"Video Games\", \"Streaming Services\", \"Social Media Platforms\", \"Digital Entertainment\",\n",
    "\n",
    "    \"Public Health\", \"Vaccines\", \"Medical Technology\"\n",
    "]\n"
   ]
  },
  {
   "cell_type": "code",
   "execution_count": 3,
   "id": "4be1e544",
   "metadata": {},
   "outputs": [],
   "source": [
    "# Set language to English\n",
    "wikipedia.set_lang(\"en\")\n",
    "\n",
    "# Output list\n",
    "results = []"
   ]
  },
  {
   "cell_type": "code",
   "execution_count": 4,
   "id": "68a908f7",
   "metadata": {},
   "outputs": [
    {
     "name": "stdout",
     "output_type": "stream",
     "text": [
      "Collected: Artificial Intelligence\n",
      "Collected: Deep Learning\n",
      "Collected: Neural Networks\n",
      "Collected: Quantum mechanics\n",
      "Collected: Bitcoin\n",
      "Collected: Cybersecurity\n",
      "Collected: Internet of Things\n",
      "Collected: Cloud Computing\n",
      "Collected: Renewable Energy\n",
      "Collected: Photovoltaics\n",
      "Collected: Climate Change\n",
      "Collected: Genetic Engineering\n"
     ]
    },
    {
     "name": "stderr",
     "output_type": "stream",
     "text": [
      "e:\\Rag_Based_Q&A_System\\rag_qa\\Lib\\site-packages\\wikipedia\\wikipedia.py:389: GuessedAtParserWarning: No parser was explicitly specified, so I'm using the best available HTML parser for this system (\"html.parser\"). This usually isn't a problem, but if you run this code on another system, or in a different virtual environment, it may use a different parser and behave differently.\n",
      "\n",
      "The code that caused this warning is on line 389 of the file e:\\Rag_Based_Q&A_System\\rag_qa\\Lib\\site-packages\\wikipedia\\wikipedia.py. To get rid of this warning, pass the additional argument 'features=\"html.parser\"' to the BeautifulSoup constructor.\n",
      "\n",
      "  lis = BeautifulSoup(html).find_all('li')\n"
     ]
    },
    {
     "name": "stdout",
     "output_type": "stream",
     "text": [
      "DisambiguationError for 'CRISPR': ['Potato chips', 'Chip (snack)', 'Crisp (dessert)'] (skipped)\n",
      "Collected: Nanotechnology\n",
      "Collected: NASA\n",
      "Collected: Mars Exploration\n",
      "Collected: Robot\n",
      "Collected: Autonomous Vehicles\n",
      "Collected: Cryptocurrency\n",
      "Collected: Virtual reality headset\n",
      "Collected: Augmented Reality\n",
      "Collected: 5G\n",
      "Collected: Biotechnology\n",
      "Collected: World War II\n",
      "Collected: World War I\n",
      "Collected: American Civil War\n",
      "Collected: French Revolution\n",
      "Collected: Steam engine\n",
      "Collected: Ancient Egypt\n",
      "Collected: Middle Ages\n",
      "Collected: Renaissance\n",
      "Collected: Representative democracy\n",
      "Collected: League of Nations\n",
      "Collected: European Union\n",
      "Collected: NATO\n",
      "Collected: Colonialism\n",
      "Collected: Decolonization\n",
      "Collected: Human Rights\n",
      "Collected: Constitution \n",
      "Collected: International Law\n",
      "Collected: Diplomatic Relations\n",
      "Collected: Political Systems\n",
      "Collected: Amazon Rainforest\n",
      "Collected: Sahara Desert\n",
      "Collected: Pacific Ocean\n",
      "Collected: Mediterranean Sea\n",
      "Collected: Manhattan \n",
      "Collected: London\n",
      "Collected: Tokyo\n",
      "Collected: Paris\n",
      "Collected: Forbidden City\n",
      "Collected: Global Warming Effects\n",
      "Collected: Natural Disasters\n",
      "Collected: Earthquakes\n",
      "Collected: Volcanoes\n",
      "Collected: Ocean Currents\n",
      "Collected: Religion \n",
      "Collected: Catholic Church\n",
      "Collected: Quran\n",
      "Collected: Buddhism\n",
      "Collected: Philosophy\n",
      "Collected: Sociology\n",
      "Collected: Anthropology\n",
      "Collected: Psychology\n",
      "Collected: Education Systems\n",
      "Collected: Healthcare Systems\n",
      "Collected: Social Media\n",
      "Collected: Globalization\n",
      "Collected: Multiculturalism\n",
      "Collected: Human Migration\n",
      "Collected: Stock Market\n",
      "Collected: Banking System\n",
      "Collected: Economic Theory\n",
      "Collected: Hyperinflation \n",
      "Collected: Supply Chain\n",
      "Collected: International Trade\n",
      "Collected: Entrepreneurship\n",
      "Collected: Corporate Governance\n",
      "Collected: Economic Development\n",
      "Collected: Financial Markets\n",
      "Collected: Renaissance Art\n",
      "Collected: Modern Art\n",
      "Collected: Literature\n",
      "Collected: Shakespeare\n",
      "Collected: Baroque music\n",
      "Collected: Jazz Music\n",
      "Collected: Film Industry\n",
      "Collected: Theater\n",
      "Collected: Architecture\n",
      "Collected: Digital Art\n",
      "Collected: Olympic Games\n",
      "Collected: FIFA World Cup\n",
      "Collected: Basketball\n",
      "Collected: Wimbledon Championships\n",
      "Collected: Grand Prix motor racing\n",
      "Collected: Entertainment Industry\n",
      "Collected: Video Games\n",
      "Collected: Streaming Services\n",
      "Collected: Social Media Platforms\n",
      "Collected: Digital Entertainment\n",
      "Collected: Public Health\n",
      "Collected: Vaccines\n",
      "Collected: Medical Technology\n"
     ]
    }
   ],
   "source": [
    "# Loop through topics\n",
    "for topic in topics:\n",
    "    try:\n",
    "        summary = wikipedia.summary(topic)\n",
    "        results.append({\n",
    "            \"title\": topic,\n",
    "            \"summary\": summary[:2500]  # Truncate to 2500 characters\n",
    "        })\n",
    "        print(f\"Collected: {topic}\")\n",
    "    except wikipedia.exceptions.DisambiguationError as e:\n",
    "        print(f\"DisambiguationError for '{topic}': {e.options[:3]} (skipped)\")\n",
    "    except wikipedia.exceptions.PageError:\n",
    "        print(f\"PageError: '{topic}' not found (skipped)\")\n",
    "    except Exception as e:\n",
    "        print(f\"Unexpected error for '{topic}': {e}\")"
   ]
  },
  {
   "cell_type": "code",
   "execution_count": 5,
   "id": "89267ef6",
   "metadata": {},
   "outputs": [
    {
     "name": "stdout",
     "output_type": "stream",
     "text": [
      "\n",
      " Done! Exported 102 summaries to 'data/wiki_summaries.json'\n"
     ]
    }
   ],
   "source": [
    "# Save to JSON\n",
    "os.makedirs(\"data\", exist_ok=True)\n",
    "with open(\"data/wiki_summaries.json\", \"w\", encoding=\"utf-8\") as f:\n",
    "    json.dump(results, f, ensure_ascii=False, indent=2)\n",
    "\n",
    "print(f\"\\n Done! Exported {len(results)} summaries to 'data/wiki_summaries.json'\")"
   ]
  }
 ],
 "metadata": {
  "kernelspec": {
   "display_name": "rag_qa",
   "language": "python",
   "name": "python3"
  },
  "language_info": {
   "codemirror_mode": {
    "name": "ipython",
    "version": 3
   },
   "file_extension": ".py",
   "mimetype": "text/x-python",
   "name": "python",
   "nbconvert_exporter": "python",
   "pygments_lexer": "ipython3",
   "version": "3.11.9"
  }
 },
 "nbformat": 4,
 "nbformat_minor": 5
}
